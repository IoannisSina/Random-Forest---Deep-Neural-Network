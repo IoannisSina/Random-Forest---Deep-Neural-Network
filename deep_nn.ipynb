{
  "nbformat": 4,
  "nbformat_minor": 0,
  "metadata": {
    "colab": {
      "name": "Exercise2_en.ipynb",
      "provenance": [],
      "collapsed_sections": []
    },
    "kernelspec": {
      "name": "python3",
      "display_name": "Python 3"
    },
    "language_info": {
      "name": "python"
    }
  },
  "cells": [
    {
      "cell_type": "markdown",
      "metadata": {
        "id": "xKur-avyxU-J"
      },
      "source": [
        "## Loading and Inspecting Dataset"
      ]
    },
    {
      "cell_type": "code",
      "metadata": {
        "colab": {
          "base_uri": "https://localhost:8080/",
          "height": 419
        },
        "id": "BnS7QESrxP-K",
        "outputId": "aacbce0a-8209-4ee5-dc2e-d532687763b3"
      },
      "source": [
        "import pandas as pd\n",
        "\n",
        "url = (\"https://drive.google.com/uc?id=14PVQVJMUAlvYIBrKGPrwgkl4IM1XACmo\"\n",
        "                                            \"&authuser=1&export=download\")\n",
        "\n",
        "df = pd.read_csv(url)\n",
        "df"
      ],
      "execution_count": null,
      "outputs": [
        {
          "output_type": "execute_result",
          "data": {
            "text/html": [
              "<div>\n",
              "<style scoped>\n",
              "    .dataframe tbody tr th:only-of-type {\n",
              "        vertical-align: middle;\n",
              "    }\n",
              "\n",
              "    .dataframe tbody tr th {\n",
              "        vertical-align: top;\n",
              "    }\n",
              "\n",
              "    .dataframe thead th {\n",
              "        text-align: right;\n",
              "    }\n",
              "</style>\n",
              "<table border=\"1\" class=\"dataframe\">\n",
              "  <thead>\n",
              "    <tr style=\"text-align: right;\">\n",
              "      <th></th>\n",
              "      <th>email</th>\n",
              "      <th>label</th>\n",
              "    </tr>\n",
              "  </thead>\n",
              "  <tbody>\n",
              "    <tr>\n",
              "      <th>0</th>\n",
              "      <td>mike bostock said received from trackingNUMBE...</td>\n",
              "      <td>0</td>\n",
              "    </tr>\n",
              "    <tr>\n",
              "      <th>1</th>\n",
              "      <td>no i was just a little confused because i m r...</td>\n",
              "      <td>0</td>\n",
              "    </tr>\n",
              "    <tr>\n",
              "      <th>2</th>\n",
              "      <td>this is just an semi educated guess if i m wro...</td>\n",
              "      <td>0</td>\n",
              "    </tr>\n",
              "    <tr>\n",
              "      <th>3</th>\n",
              "      <td>jm URL justin mason writes except for NUMBER t...</td>\n",
              "      <td>0</td>\n",
              "    </tr>\n",
              "    <tr>\n",
              "      <th>4</th>\n",
              "      <td>i just picked up razor sdk NUMBER NUMBER and N...</td>\n",
              "      <td>0</td>\n",
              "    </tr>\n",
              "    <tr>\n",
              "      <th>...</th>\n",
              "      <td>...</td>\n",
              "      <td>...</td>\n",
              "    </tr>\n",
              "    <tr>\n",
              "      <th>1495</th>\n",
              "      <td>abc s good morning america ranks it the NUMBE...</td>\n",
              "      <td>1</td>\n",
              "    </tr>\n",
              "    <tr>\n",
              "      <th>1496</th>\n",
              "      <td>hyperlink hyperlink hyperlink let mortgage le...</td>\n",
              "      <td>1</td>\n",
              "    </tr>\n",
              "    <tr>\n",
              "      <th>1497</th>\n",
              "      <td>thank you for shopping with us gifts for all ...</td>\n",
              "      <td>1</td>\n",
              "    </tr>\n",
              "    <tr>\n",
              "      <th>1498</th>\n",
              "      <td>the famous ebay marketing e course learn to s...</td>\n",
              "      <td>1</td>\n",
              "    </tr>\n",
              "    <tr>\n",
              "      <th>1499</th>\n",
              "      <td>hello this is chinese traditional 子 件 NUMBER世...</td>\n",
              "      <td>1</td>\n",
              "    </tr>\n",
              "  </tbody>\n",
              "</table>\n",
              "<p>1500 rows × 2 columns</p>\n",
              "</div>"
            ],
            "text/plain": [
              "                                                  email  label\n",
              "0      mike bostock said received from trackingNUMBE...      0\n",
              "1      no i was just a little confused because i m r...      0\n",
              "2     this is just an semi educated guess if i m wro...      0\n",
              "3     jm URL justin mason writes except for NUMBER t...      0\n",
              "4     i just picked up razor sdk NUMBER NUMBER and N...      0\n",
              "...                                                 ...    ...\n",
              "1495   abc s good morning america ranks it the NUMBE...      1\n",
              "1496   hyperlink hyperlink hyperlink let mortgage le...      1\n",
              "1497   thank you for shopping with us gifts for all ...      1\n",
              "1498   the famous ebay marketing e course learn to s...      1\n",
              "1499   hello this is chinese traditional 子 件 NUMBER世...      1\n",
              "\n",
              "[1500 rows x 2 columns]"
            ]
          },
          "metadata": {
            "tags": []
          },
          "execution_count": 1
        }
      ]
    },
    {
      "cell_type": "markdown",
      "metadata": {
        "id": "7EIO1SHhizBQ"
      },
      "source": [
        "Deletion of rows that have null email:"
      ]
    },
    {
      "cell_type": "code",
      "metadata": {
        "id": "q4I8Yd_kjEDu",
        "colab": {
          "base_uri": "https://localhost:8080/"
        },
        "outputId": "889b8ce7-2f80-4b98-e085-f06f743111ca"
      },
      "source": [
        "print('NaN emails: {}'.format(df['email'].isnull().sum()))\n",
        "df = df.dropna(subset=['email'])\n",
        "print('NaN emails: {}'.format(df['email'].isnull().sum()))"
      ],
      "execution_count": null,
      "outputs": [
        {
          "output_type": "stream",
          "text": [
            "NaN emails: 1\n",
            "NaN emails: 0\n"
          ],
          "name": "stdout"
        }
      ]
    },
    {
      "cell_type": "markdown",
      "metadata": {
        "id": "oP5_jPDpjMH9"
      },
      "source": [
        "Create a matrix of dimensions $n \\times m$ where $n$ is the number of emails and $m$ the number of **discrete words** in the text corpus. The value of the cell $(i,j)$ of the matrix, contains the tf-idf metric of the word $j$ in the text (email) $i$.\n",
        "\n",
        "By definition, the constructor of **TfidfVectorizer** class during the processing of texts, converts all words to lowercase. We decided not to remove the Stopwords since there is a case that a spam email consists only of Stopwords.  "
      ]
    },
    {
      "cell_type": "code",
      "metadata": {
        "id": "I6VDO-u1iRaf"
      },
      "source": [
        "from sklearn.feature_extraction.text import TfidfVectorizer\n",
        "\n",
        "emails = df['email']\n",
        "vec = TfidfVectorizer()\n",
        "vec_train = vec.fit_transform(emails)\n",
        "\n",
        "X = pd.DataFrame(vec_train.todense())\n",
        "y = df['label']"
      ],
      "execution_count": null,
      "outputs": []
    },
    {
      "cell_type": "markdown",
      "metadata": {
        "id": "4O2C6pfilm0b"
      },
      "source": [
        "In the end, the resulting matrix $X$ containts all the tf-idf factors and it is the dense version of $vec\\_train$ which is sparse.\n",
        "\n",
        "In essence, every row of the matrix $X$ is a representation (Embedding) of the email in a $m$-dimensional space which has been generated by the set of words."
      ]
    },
    {
      "cell_type": "markdown",
      "metadata": {
        "id": "ZZVfb8EVxyC4"
      },
      "source": [
        "## Neural Network"
      ]
    },
    {
      "cell_type": "markdown",
      "metadata": {
        "id": "PlzvbqsDnJH0"
      },
      "source": [
        "Using KFold we repeatedly split the dataset into trainset (75%) and testset (25%).\n",
        "\n",
        "The neural network model we created consists of three sequential and dense layers of neurons. More specifically:\n",
        "1. Layer of 16 neurons with ReLU activation function. Ορίζουμε το όρισμα input_dim να είναι ίσο με $m$ (πλήθος διακριτών λέξεων).\n",
        "2. Layer of 8 neurons with ReLU activation function.\n",
        "3. Layer of 1 neuron with sigmoid activation function. The last layer, because of sigmoid, results in a single value $x \\in [0,1]$. If this value is greater than $0.5$ the email is considered as spam (1), otherwise as non-spam (0).\n",
        "\n",
        "\n",
        "The model uses the loss function Binary cross entropy which is widely used in Binary classification tasks to calculate the error of the model during training, in order to minimize it. Adam optimizer and accuracy metric are used. For the training phase, we use epochs=10 and batch_size=10."
      ]
    },
    {
      "cell_type": "code",
      "metadata": {
        "colab": {
          "base_uri": "https://localhost:8080/"
        },
        "id": "fKG6RiAOxykc",
        "outputId": "7582fa8f-40d5-476a-b72f-d176b9abd9b9"
      },
      "source": [
        "from keras.models import Sequential\n",
        "from keras.layers import Dense\n",
        "from sklearn.model_selection import KFold\n",
        "from sklearn.metrics import f1_score, precision_score, recall_score \n",
        "\n",
        "\n",
        "kf = KFold(n_splits=4, shuffle=True)\n",
        "\n",
        "for fold, (train_index, test_index) in enumerate(kf.split(X)):\n",
        "\tX_train = X.iloc[train_index]\n",
        "\ty_train = y.iloc[train_index]\n",
        "\tX_test = X.iloc[test_index]\n",
        "\ty_test = y.iloc[test_index]\n",
        "\n",
        "\t# define the keras model\n",
        "\tmodel = Sequential()\n",
        "\tmodel.add(Dense(16, input_dim=X_train.shape[1], activation='relu'))\n",
        "\tmodel.add(Dense(8, activation='relu'))\n",
        "\tmodel.add(Dense(1, activation='sigmoid'))\n",
        "\t# model.summary()\n",
        "\n",
        "\t# compile the keras model\n",
        "\tmodel.compile(loss='binary_crossentropy', optimizer='adam', \n",
        "               metrics=['accuracy'])\n",
        "\t# fit the keras model on the dataset\n",
        "\tmodel.fit(X_train, y_train, epochs=10, batch_size=10, verbose=0)\n",
        "\t# make class predictions with the model\n",
        "\tpredictions = (model.predict(X_test) > 0.5).astype(\"int32\")\n",
        "\n",
        "\tprint(f'Number of fold: {fold}')\n",
        "\tprint(f'\\tRecall: {recall_score(y_test, predictions)}')\n",
        "\tprint(f'\\tPrecision: {precision_score(y_test, predictions)}')\n",
        "\tprint(f'\\tf1-score: {f1_score(y_test, predictions)}')\n",
        "\tprint('-------------------------------------------------------------')\n"
      ],
      "execution_count": null,
      "outputs": [
        {
          "output_type": "stream",
          "text": [
            "Number of fold: 0\n",
            "\tRecall: 0.9765625\n",
            "\tPrecision: 1.0\n",
            "\tf1-score: 0.9881422924901185\n",
            "-------------------------------------------------------------\n",
            "Number of fold: 1\n",
            "\tRecall: 0.9758064516129032\n",
            "\tPrecision: 1.0\n",
            "\tf1-score: 0.9877551020408163\n",
            "-------------------------------------------------------------\n",
            "Number of fold: 2\n",
            "\tRecall: 0.9779411764705882\n",
            "\tPrecision: 0.9851851851851852\n",
            "\tf1-score: 0.981549815498155\n",
            "-------------------------------------------------------------\n",
            "Number of fold: 3\n",
            "\tRecall: 0.990990990990991\n",
            "\tPrecision: 0.9821428571428571\n",
            "\tf1-score: 0.9865470852017937\n",
            "-------------------------------------------------------------\n"
          ],
          "name": "stdout"
        }
      ]
    },
    {
      "cell_type": "markdown",
      "metadata": {
        "id": "tCkOKXsXESut"
      },
      "source": [
        "We observe from the above results, that the **specific** preprocessing and the use of this neural network are suitable for the specific dataset. The results are excellent."
      ]
    }
  ]
}